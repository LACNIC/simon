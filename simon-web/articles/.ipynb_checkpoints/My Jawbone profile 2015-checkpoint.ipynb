{
 "cells": [
  {
   "cell_type": "code",
   "execution_count": 4,
   "metadata": {
    "collapsed": false
   },
   "outputs": [
    {
     "name": "stdout",
     "output_type": "stream",
     "text": [
      "Populating the interactive namespace from numpy and matplotlib\n"
     ]
    }
   ],
   "source": [
    "import matplotlib.pyplot as pyplot\n",
    "import numpy\n",
    "import math\n",
    "%pylab inline"
   ]
  },
  {
   "cell_type": "code",
   "execution_count": 5,
   "metadata": {
    "collapsed": true
   },
   "outputs": [],
   "source": [
    "deep = [12240,16800,9600,11821,10679,14400,5400,29579,10437,14711,11870,13707,18479,8099,8835,15423,14287,12783,13686,15900,7477,17018,6600,15179,19561,18058,7500,18066,6967,11400,10860,12185,10738,9900,16687,10384,9291,15537,18265,15059,9600,12000,11159,10317,13679,8825,11570,11700,14939,16030,8580,11100,8829,9300,9900,7079,12481,16816,9177,11580]"
   ]
  },
  {
   "cell_type": "code",
   "execution_count": 6,
   "metadata": {
    "collapsed": true
   },
   "outputs": [],
   "source": [
    "light = [6360,8100,15000,16566,13451,15000,6900,15484,22125,14581,11101,12614,8591,16099,8281,13555,10116,15361,11519,12300,6842,15063,3600,14226,8890,13176,4500,13860,12361,16500,12083,10885,10171,11700,18124,16021,6900,13153,15303,19439,12300,18600,9519,12019,18780,17522,17761,14400,16230,15900,21371,15300,15898,11400,8100,10741,11339,11341,15918,13979]"
   ]
  },
  {
   "cell_type": "code",
   "execution_count": 7,
   "metadata": {
    "collapsed": false
   },
   "outputs": [],
   "source": [
    "xs = numpy.arange(-5E3, 35E3, 1)\n",
    "def histograma(rs, filter):\n",
    "    from scipy.stats import gaussian_kde\n",
    "    kde = gaussian_kde(rs)\n",
    "    kde.covariance_factor = lambda: filter\n",
    "    kde._compute_covariance()\n",
    "    return kde(xs)"
   ]
  },
  {
   "cell_type": "code",
   "execution_count": 15,
   "metadata": {
    "collapsed": false
   },
   "outputs": [
    {
     "name": "stdout",
     "output_type": "stream",
     "text": [
      "12502.15 13071.9833333\n"
     ]
    },
    {
     "data": {
      "image/png": "[encoded data removed]",
      "text/plain": [
       "<matplotlib.figure.Figure at 0x108cbea90>"
      ]
     },
     "metadata": {},
     "output_type": "display_data"
    }
   ],
   "source": [
    "# pyplot.plot(xs, histograma(deep, 1), linewidth=2.5, label=\"Deep\")\n",
    "# pyplot.plot(xs, histograma(light, 1), linewidth=2.5, label=\"Light\")\n",
    "pyplot.fill_between(xs, histograma(deep, .25), facecolor='red', linewidth=0, alpha=0.5)\n",
    "pyplot.fill_between(xs, histograma(light, .25), facecolor='orange', linewidth=0, alpha=0.7)\n",
    "pyplot.fill_between(xs, histograma(light + deep, .25), facecolor='white', linewidth=0, alpha=0.9)\n",
    "\n",
    "# histogramas\n",
    "# pyplot.hist(deep, bins=9, normed=True, label=\"Deep\")\n",
    "# pyplot.hist(light, bins=9, normed=True, label=\"Light\")\n",
    "\n",
    "# pyplot.legend()\n",
    "print numpy.mean(deep), numpy.mean(light)"
   ]
  },
  {
   "cell_type": "code",
   "execution_count": 9,
   "metadata": {
    "collapsed": true
   },
   "outputs": [],
   "source": [
    "## math.sqrt(len(deep))"
   ]
  },
  {
   "cell_type": "code",
   "execution_count": null,
   "metadata": {
    "collapsed": true
   },
   "outputs": [],
   "source": []
  }
 ],
 "metadata": {
  "kernelspec": {
   "display_name": "Python 2",
   "language": "python",
   "name": "python2"
  },
  "language_info": {
   "codemirror_mode": {
    "name": "ipython",
    "version": 2
   },
   "file_extension": ".py",
   "mimetype": "text/x-python",
   "name": "python",
   "nbconvert_exporter": "python",
   "pygments_lexer": "ipython2",
   "version": "2.7.8"
  }
 },
 "nbformat": 4,
 "nbformat_minor": 0
}
